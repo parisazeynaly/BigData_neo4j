{
  "nbformat": 4,
  "nbformat_minor": 0,
  "metadata": {
    "colab": {
      "provenance": [],
      "authorship_tag": "ABX9TyOr+2gG/MeT8pwxawt4mFpd",
      "include_colab_link": true
    },
    "kernelspec": {
      "name": "python3",
      "display_name": "Python 3"
    },
    "language_info": {
      "name": "python"
    }
  },
  "cells": [
    {
      "cell_type": "markdown",
      "metadata": {
        "id": "view-in-github",
        "colab_type": "text"
      },
      "source": [
        "<a href=\"https://colab.research.google.com/github/parisazeynaly/BigData_neo4j/blob/main/Fraud_Detection_in_P2P_Networks.ipynb\" target=\"_parent\"><img src=\"https://colab.research.google.com/assets/colab-badge.svg\" alt=\"Open In Colab\"/></a>"
      ]
    },
    {
      "cell_type": "code",
      "source": [
        "import numpy as np\n",
        "import pandas as pd\n",
        "import matplotlib.pyplot as plt\n",
        "import seaborn as sns\n",
        "import regex as re\n",
        "import nltk\n",
        "nltk.download('stopwords')\n",
        "from nltk.corpus import stopwords\n"
      ],
      "metadata": {
        "colab": {
          "base_uri": "https://localhost:8080/"
        },
        "id": "1sEpnT3lRDMb",
        "outputId": "6064ea7a-4d3c-4c80-9cf0-d9e0cbc0fbe4"
      },
      "execution_count": 9,
      "outputs": [
        {
          "output_type": "stream",
          "name": "stderr",
          "text": [
            "[nltk_data] Downloading package stopwords to /root/nltk_data...\n",
            "[nltk_data]   Unzipping corpora/stopwords.zip.\n"
          ]
        }
      ]
    },
    {
      "cell_type": "code",
      "execution_count": 5,
      "metadata": {
        "id": "ACo2PqGGK8ty"
      },
      "outputs": [],
      "source": [
        "df=pd.read_csv('training.1600000.processed.noemoticon.csv', nrows=10000, encoding='latin-1', header=None)"
      ]
    },
    {
      "cell_type": "code",
      "source": [
        "print(df.head(10))\n",
        "print(f\"\\nTotal rows loaded: {len(df)}\")"
      ],
      "metadata": {
        "colab": {
          "base_uri": "https://localhost:8080/"
        },
        "id": "pzblZ4ZSVoWP",
        "outputId": "165dd7f8-ffc2-4708-c5cb-28b7f3543b2d"
      },
      "execution_count": 7,
      "outputs": [
        {
          "output_type": "stream",
          "name": "stdout",
          "text": [
            "   0           1                             2         3                4  \\\n",
            "0  0  1467810369  Mon Apr 06 22:19:45 PDT 2009  NO_QUERY  _TheSpecialOne_   \n",
            "1  0  1467810672  Mon Apr 06 22:19:49 PDT 2009  NO_QUERY    scotthamilton   \n",
            "2  0  1467810917  Mon Apr 06 22:19:53 PDT 2009  NO_QUERY         mattycus   \n",
            "3  0  1467811184  Mon Apr 06 22:19:57 PDT 2009  NO_QUERY          ElleCTF   \n",
            "4  0  1467811193  Mon Apr 06 22:19:57 PDT 2009  NO_QUERY           Karoli   \n",
            "5  0  1467811372  Mon Apr 06 22:20:00 PDT 2009  NO_QUERY         joy_wolf   \n",
            "6  0  1467811592  Mon Apr 06 22:20:03 PDT 2009  NO_QUERY          mybirch   \n",
            "7  0  1467811594  Mon Apr 06 22:20:03 PDT 2009  NO_QUERY             coZZ   \n",
            "8  0  1467811795  Mon Apr 06 22:20:05 PDT 2009  NO_QUERY  2Hood4Hollywood   \n",
            "9  0  1467812025  Mon Apr 06 22:20:09 PDT 2009  NO_QUERY          mimismo   \n",
            "\n",
            "                                                   5  \n",
            "0  @switchfoot http://twitpic.com/2y1zl - Awww, t...  \n",
            "1  is upset that he can't update his Facebook by ...  \n",
            "2  @Kenichan I dived many times for the ball. Man...  \n",
            "3    my whole body feels itchy and like its on fire   \n",
            "4  @nationwideclass no, it's not behaving at all....  \n",
            "5                      @Kwesidei not the whole crew   \n",
            "6                                        Need a hug   \n",
            "7  @LOLTrish hey  long time no see! Yes.. Rains a...  \n",
            "8               @Tatiana_K nope they didn't have it   \n",
            "9                          @twittera que me muera ?   \n",
            "\n",
            "Total rows loaded: 10000\n"
          ]
        }
      ]
    },
    {
      "cell_type": "code",
      "source": [
        "df.columns = ['target', 'ids', 'date', 'flag', 'user', 'text']\n"
      ],
      "metadata": {
        "id": "gmK3P2JQXzKM"
      },
      "execution_count": 10,
      "outputs": []
    },
    {
      "cell_type": "markdown",
      "source": [
        "preprocessing\n"
      ],
      "metadata": {
        "id": "e9VNcdasZVxg"
      }
    },
    {
      "cell_type": "code",
      "source": [
        "def clean_text(text):\n",
        "  text.lower()\n",
        "  text."
      ],
      "metadata": {
        "id": "ImUQhPaZZXwS"
      },
      "execution_count": null,
      "outputs": []
    }
  ]
}